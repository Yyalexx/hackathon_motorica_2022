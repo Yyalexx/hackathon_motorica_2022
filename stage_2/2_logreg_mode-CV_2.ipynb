{
 "cells": [
  {
   "cell_type": "markdown",
   "metadata": {},
   "source": [
    "# Загрузка библиотек"
   ]
  },
  {
   "cell_type": "code",
   "execution_count": 1,
   "metadata": {},
   "outputs": [],
   "source": [
    "# загружаем необходимые библиотеки\n",
    "import pandas as pd\n",
    "import numpy as np\n",
    "import matplotlib.pyplot as plt\n",
    "import seaborn as sns\n",
    "import plotly.express as px\n",
    "from sklearn.model_selection import train_test_split\n",
    "from sklearn.model_selection import StratifiedKFold\n",
    "from sklearn.metrics import confusion_matrix, ConfusionMatrixDisplay, classification_report\n",
    "from sklearn.linear_model import LogisticRegression\n",
    "from sklearn.metrics import accuracy_score\n",
    "from statistics import median\n",
    "from statistics import mean\n",
    "from statistics import mode"
   ]
  },
  {
   "cell_type": "markdown",
   "metadata": {},
   "source": [
    "## Загрузка данных"
   ]
  },
  {
   "cell_type": "code",
   "execution_count": 2,
   "metadata": {},
   "outputs": [],
   "source": [
    "# загружаем X_train, X_test. В y_train загружаем данные своей разметки.\n",
    "X_train = np.load ( 'X_train.npy')\n",
    "X_test = np.load ( 'X_test.npy')\n",
    "y_train = pd.read_csv('y_train_250_5_61_-2.csv')\n",
    "y = y_train.copy()"
   ]
  },
  {
   "cell_type": "code",
   "execution_count": 3,
   "metadata": {},
   "outputs": [
    {
     "name": "stdout",
     "output_type": "stream",
     "text": [
      "(323, 40, 100)\n",
      "(54, 40, 100)\n"
     ]
    }
   ],
   "source": [
    "print(X_train.shape)\n",
    "print(X_test.shape)"
   ]
  },
  {
   "cell_type": "code",
   "execution_count": 4,
   "metadata": {},
   "outputs": [
    {
     "name": "stdout",
     "output_type": "stream",
     "text": [
      "(32300, 1)\n"
     ]
    },
    {
     "data": {
      "text/html": [
       "<div>\n",
       "<style scoped>\n",
       "    .dataframe tbody tr th:only-of-type {\n",
       "        vertical-align: middle;\n",
       "    }\n",
       "\n",
       "    .dataframe tbody tr th {\n",
       "        vertical-align: top;\n",
       "    }\n",
       "\n",
       "    .dataframe thead th {\n",
       "        text-align: right;\n",
       "    }\n",
       "</style>\n",
       "<table border=\"1\" class=\"dataframe\">\n",
       "  <thead>\n",
       "    <tr style=\"text-align: right;\">\n",
       "      <th></th>\n",
       "      <th>class_new</th>\n",
       "    </tr>\n",
       "  </thead>\n",
       "  <tbody>\n",
       "    <tr>\n",
       "      <th>7590</th>\n",
       "      <td>0</td>\n",
       "    </tr>\n",
       "    <tr>\n",
       "      <th>14421</th>\n",
       "      <td>0</td>\n",
       "    </tr>\n",
       "    <tr>\n",
       "      <th>5774</th>\n",
       "      <td>0</td>\n",
       "    </tr>\n",
       "    <tr>\n",
       "      <th>22689</th>\n",
       "      <td>1</td>\n",
       "    </tr>\n",
       "    <tr>\n",
       "      <th>7996</th>\n",
       "      <td>0</td>\n",
       "    </tr>\n",
       "  </tbody>\n",
       "</table>\n",
       "</div>"
      ],
      "text/plain": [
       "       class_new\n",
       "7590           0\n",
       "14421          0\n",
       "5774           0\n",
       "22689          1\n",
       "7996           0"
      ]
     },
     "execution_count": 4,
     "metadata": {},
     "output_type": "execute_result"
    }
   ],
   "source": [
    "# посмотрим на целевую переменную\n",
    "print(y.shape)\n",
    "y.sample(5)"
   ]
  },
  {
   "cell_type": "markdown",
   "metadata": {},
   "source": [
    "## Оценка данных"
   ]
  },
  {
   "cell_type": "markdown",
   "metadata": {},
   "source": [
    "0 - команда \"жест open\";  \n",
    "1 - команда \"сгиб мизинца\";  \n",
    "2 - команда \"сгиб безымянного пальца\";  \n",
    "3 - команда \"сгиб среднего пальца\";  \n",
    "4 - команда \"жест пистолет\";  \n",
    "5 - команда \"сгиб указательного пальца\";  \n",
    "6 - команда \"сгиб большога пальца\";  \n",
    "7 - команда \"жест ОК\";  \n",
    "8 - команда \"жест grab\";  "
   ]
  },
  {
   "cell_type": "code",
   "execution_count": 5,
   "metadata": {},
   "outputs": [
    {
     "data": {
      "image/png": "[encoded data removed]",
      "text/plain": [
       "<Figure size 432x288 with 1 Axes>"
      ]
     },
     "metadata": {
      "needs_background": "light"
     },
     "output_type": "display_data"
    }
   ],
   "source": [
    "# построим график распределения команд \n",
    "y_counts = y['class_new'].value_counts()\n",
    "plot = sns.barplot(data = y_train, x = y_counts.index, y = y_counts)\n",
    "plot.set_title('Распределение команд')\n",
    "plot.set_xlabel('Номер команды')\n",
    "plot.set_ylabel('Количество экземпляров в каждой команде');"
   ]
  },
  {
   "cell_type": "code",
   "execution_count": 6,
   "metadata": {},
   "outputs": [],
   "source": [
    "# УДАЛИТЬ\n",
    "def sensor_treshold_filtr(array, tres = 250):\n",
    "    \"\"\"Функция производит пороговую фильтрацию массива. \n",
    "    Исключаются строки, где максимальное значение не превышает пороговое значение.\n",
    "    Аргументы: array - входной массив,\n",
    "               tres - пороговое значение.\n",
    "    Возвращает отфильтрованный массив.\"\"\"\n",
    "    low_sensors_set = set()               # \n",
    "    for i in range(array.shape[0]):\n",
    "        for j in range(array.shape[1]):\n",
    "            if array[i,j].max() <= tres:\n",
    "                low_sensors_set.add(j)\n",
    "    low_sens_list = list(low_sensors_set)\n",
    "    array_out = np.delete(array, low_sens_list, 1)\n",
    "    return array_out"
   ]
  },
  {
   "cell_type": "code",
   "execution_count": 7,
   "metadata": {},
   "outputs": [
    {
     "data": {
      "text/plain": [
       "(323, 16, 100)"
      ]
     },
     "execution_count": 7,
     "metadata": {},
     "output_type": "execute_result"
    }
   ],
   "source": [
    "# применим функцию sensor_treshold_filtr к нашему массиву признаков,\n",
    "# которая производит пороговую фильтрацию.\n",
    "X_tres_train = sensor_treshold_filtr(X_train)\n",
    "X_tres_train.shape"
   ]
  },
  {
   "cell_type": "markdown",
   "metadata": {},
   "source": [
    "## Алгоритм решения задачи.\n",
    "`y_train` содержит номер команды для каждого временного значения.\n",
    "`X_train` содержит 40 значений показаний датчиков для каждого временного значения.\n",
    "Из этого, предположим, что по 40 значениям показаний датчиков можно определить номер\n",
    "команды для каждого временного значения. Для решения этой задачи нам потребуется\n",
    "классификатор. Получается, что X_train вытягивается по шкале времени в 32300 строк \n",
    "данных для обучения моделей. В процессе оценки графиков, выяснилось, что некоторые \n",
    "датчики не несут в себе информацию и были просто удалены из X_train c помощью\n",
    "пороговой фильтрации.\n",
    "\n",
    "Важное состояние руки - это состояние `open`, встречается оно очень часто.\n",
    "Поэтому предложено сделать отдельный бинарный классификатор на определение именно\n",
    "этого состояния. Так же данный подход помогает избежать дисбаланса классов.\n",
    "В итоге определяем был ли сделан какой-либо жест.\n",
    "\n",
    "Следующим этапом решения будет тренировка многоклассового классификатора на оставшиеся\n",
    "номера команд, при этом из этих данных исключаются строки в которых бинарный \n",
    "классификатор предсказывает состояние `open`. В итоге определяем конкретный номер\n",
    "жеста, который был сделан.\n",
    "\n",
    "Для сабмита и для реального использования мы будем использовать предсказания обеих \n",
    "моделей по алгоритму:\n",
    "1. Разворачиваем тестовые данные относительно оси времени и подаем вектор значений\n",
    "датчиков на модель бинарной классификации.\n",
    "2. Если распознается жест `open`, тогда в качестве целевого значения для этого временного значения формируем 0.\n",
    "3. Иначе вектор значений из показаний датчиков отправляется в модель многоклассовой классификации, после которой в целевой переменной формируется номер команды, предсказанный этой моделью. \n",
    "4. Для исключения дребезга в целевой переменной присутствует постобработка предсказанных значений с использованием моды.\n"
   ]
  },
  {
   "cell_type": "markdown",
   "metadata": {},
   "source": [
    "Формируем данные для построения бинарной классификации: вытягивает относительно\n",
    "оси времени массив признаков, чтобы он соответствовал длине вектора целевой переменной"
   ]
  },
  {
   "cell_type": "code",
   "execution_count": 8,
   "metadata": {},
   "outputs": [],
   "source": [
    "flatten_X = pd.DataFrame(np.transpose(X_tres_train,(0,2,1)).reshape(32300, -1).astype(int))"
   ]
  },
  {
   "cell_type": "code",
   "execution_count": 9,
   "metadata": {},
   "outputs": [
    {
     "name": "stdout",
     "output_type": "stream",
     "text": [
      "<class 'pandas.core.frame.DataFrame'>\n",
      "RangeIndex: 32300 entries, 0 to 32299\n",
      "Data columns (total 16 columns):\n",
      " #   Column  Non-Null Count  Dtype\n",
      "---  ------  --------------  -----\n",
      " 0   0       32300 non-null  int32\n",
      " 1   1       32300 non-null  int32\n",
      " 2   2       32300 non-null  int32\n",
      " 3   3       32300 non-null  int32\n",
      " 4   4       32300 non-null  int32\n",
      " 5   5       32300 non-null  int32\n",
      " 6   6       32300 non-null  int32\n",
      " 7   7       32300 non-null  int32\n",
      " 8   8       32300 non-null  int32\n",
      " 9   9       32300 non-null  int32\n",
      " 10  10      32300 non-null  int32\n",
      " 11  11      32300 non-null  int32\n",
      " 12  12      32300 non-null  int32\n",
      " 13  13      32300 non-null  int32\n",
      " 14  14      32300 non-null  int32\n",
      " 15  15      32300 non-null  int32\n",
      "dtypes: int32(16)\n",
      "memory usage: 2.0 MB\n"
     ]
    }
   ],
   "source": [
    "flatten_X.info()"
   ]
  },
  {
   "cell_type": "markdown",
   "metadata": {},
   "source": [
    "Задаем вектор целевой переменной и сравниваем размерности наших данных."
   ]
  },
  {
   "cell_type": "code",
   "execution_count": 10,
   "metadata": {},
   "outputs": [
    {
     "data": {
      "text/plain": [
       "True"
      ]
     },
     "execution_count": 10,
     "metadata": {},
     "output_type": "execute_result"
    }
   ],
   "source": [
    "flatten_y = np.array(y[\"class_new\"])\n",
    "flatten_y.shape[0] == flatten_X.shape[0]"
   ]
  },
  {
   "cell_type": "markdown",
   "metadata": {},
   "source": [
    "Оцениваем количество данных, когда выполнялся жест или \n",
    "рука находилась в спокойном состоянии."
   ]
  },
  {
   "cell_type": "code",
   "execution_count": 11,
   "metadata": {},
   "outputs": [
    {
     "name": "stdout",
     "output_type": "stream",
     "text": [
      "13795\n",
      "18505\n"
     ]
    }
   ],
   "source": [
    "print(flatten_y[flatten_y > 0].shape[0])\n",
    "print(flatten_y[flatten_y == 0].shape[0])"
   ]
  },
  {
   "cell_type": "markdown",
   "metadata": {},
   "source": [
    "Добавляем признак `not_open` для бинарной классификации."
   ]
  },
  {
   "cell_type": "code",
   "execution_count": 12,
   "metadata": {},
   "outputs": [
    {
     "data": {
      "text/html": [
       "<div>\n",
       "<style scoped>\n",
       "    .dataframe tbody tr th:only-of-type {\n",
       "        vertical-align: middle;\n",
       "    }\n",
       "\n",
       "    .dataframe tbody tr th {\n",
       "        vertical-align: top;\n",
       "    }\n",
       "\n",
       "    .dataframe thead th {\n",
       "        text-align: right;\n",
       "    }\n",
       "</style>\n",
       "<table border=\"1\" class=\"dataframe\">\n",
       "  <thead>\n",
       "    <tr style=\"text-align: right;\">\n",
       "      <th></th>\n",
       "      <th>class</th>\n",
       "      <th>not_open</th>\n",
       "    </tr>\n",
       "  </thead>\n",
       "  <tbody>\n",
       "    <tr>\n",
       "      <th>796</th>\n",
       "      <td>0</td>\n",
       "      <td>0</td>\n",
       "    </tr>\n",
       "    <tr>\n",
       "      <th>14829</th>\n",
       "      <td>0</td>\n",
       "      <td>0</td>\n",
       "    </tr>\n",
       "    <tr>\n",
       "      <th>13502</th>\n",
       "      <td>2</td>\n",
       "      <td>1</td>\n",
       "    </tr>\n",
       "    <tr>\n",
       "      <th>27417</th>\n",
       "      <td>0</td>\n",
       "      <td>0</td>\n",
       "    </tr>\n",
       "    <tr>\n",
       "      <th>21235</th>\n",
       "      <td>0</td>\n",
       "      <td>0</td>\n",
       "    </tr>\n",
       "    <tr>\n",
       "      <th>13712</th>\n",
       "      <td>1</td>\n",
       "      <td>1</td>\n",
       "    </tr>\n",
       "    <tr>\n",
       "      <th>32177</th>\n",
       "      <td>0</td>\n",
       "      <td>0</td>\n",
       "    </tr>\n",
       "    <tr>\n",
       "      <th>27691</th>\n",
       "      <td>3</td>\n",
       "      <td>1</td>\n",
       "    </tr>\n",
       "    <tr>\n",
       "      <th>4631</th>\n",
       "      <td>0</td>\n",
       "      <td>0</td>\n",
       "    </tr>\n",
       "    <tr>\n",
       "      <th>11570</th>\n",
       "      <td>0</td>\n",
       "      <td>0</td>\n",
       "    </tr>\n",
       "  </tbody>\n",
       "</table>\n",
       "</div>"
      ],
      "text/plain": [
       "       class  not_open\n",
       "796        0         0\n",
       "14829      0         0\n",
       "13502      2         1\n",
       "27417      0         0\n",
       "21235      0         0\n",
       "13712      1         1\n",
       "32177      0         0\n",
       "27691      3         1\n",
       "4631       0         0\n",
       "11570      0         0"
      ]
     },
     "execution_count": 12,
     "metadata": {},
     "output_type": "execute_result"
    }
   ],
   "source": [
    "df_y = pd.DataFrame(flatten_y, columns=[\"class\"])\n",
    "df_y[\"not_open\"] = df_y[\"class\"].apply(lambda x: 1 if x > 0 else 0)\n",
    "df_y.sample(10)"
   ]
  },
  {
   "cell_type": "markdown",
   "metadata": {},
   "source": [
    "## Cross Validation"
   ]
  },
  {
   "cell_type": "markdown",
   "metadata": {},
   "source": [
    "Сделаем кросс-валидацию для оценки устойчивости работы наших моделей.\n",
    "Подробное описание каждого шага будет ниже, когда будем обучать модели \n",
    "для предсказания тестовых значений."
   ]
  },
  {
   "cell_type": "code",
   "execution_count": 13,
   "metadata": {},
   "outputs": [],
   "source": [
    "# количество фолдов для кроссвалидации\n",
    "n_folds = 5"
   ]
  },
  {
   "cell_type": "code",
   "execution_count": 14,
   "metadata": {},
   "outputs": [
    {
     "data": {
      "image/png": "[encoded data removed]",
      "text/plain": [
       "<Figure size 432x288 with 2 Axes>"
      ]
     },
     "metadata": {
      "needs_background": "light"
     },
     "output_type": "display_data"
    },
    {
     "name": "stdout",
     "output_type": "stream",
     "text": [
      "              precision    recall  f1-score   support\n",
      "\n",
      "           1       1.00      1.00      1.00       316\n",
      "           2       1.00      1.00      1.00       339\n",
      "           3       1.00      1.00      1.00       352\n",
      "           4       1.00      1.00      1.00       310\n",
      "           5       0.98      0.99      0.98       336\n",
      "           6       1.00      1.00      1.00       320\n",
      "           7       0.98      0.98      0.98       329\n",
      "           8       1.00      1.00      1.00       334\n",
      "\n",
      "    accuracy                           1.00      2636\n",
      "   macro avg       1.00      1.00      1.00      2636\n",
      "weighted avg       1.00      1.00      1.00      2636\n",
      "\n",
      "0.9950682852807283\n"
     ]
    },
    {
     "data": {
      "image/png": "[encoded data removed]",
      "text/plain": [
       "<Figure size 432x288 with 2 Axes>"
      ]
     },
     "metadata": {
      "needs_background": "light"
     },
     "output_type": "display_data"
    },
    {
     "name": "stdout",
     "output_type": "stream",
     "text": [
      "              precision    recall  f1-score   support\n",
      "\n",
      "           1       1.00      1.00      1.00       318\n",
      "           2       1.00      1.00      1.00       339\n",
      "           3       1.00      1.00      1.00       352\n",
      "           4       1.00      1.00      1.00       310\n",
      "           5       0.99      0.98      0.99       336\n",
      "           6       1.00      1.00      1.00       321\n",
      "           7       0.98      0.99      0.98       329\n",
      "           8       1.00      1.00      1.00       334\n",
      "\n",
      "    accuracy                           1.00      2639\n",
      "   macro avg       1.00      1.00      1.00      2639\n",
      "weighted avg       1.00      1.00      1.00      2639\n",
      "\n",
      "0.9954500198665862\n"
     ]
    },
    {
     "data": {
      "image/png": "[encoded data removed]",
      "text/plain": [
       "<Figure size 432x288 with 2 Axes>"
      ]
     },
     "metadata": {
      "needs_background": "light"
     },
     "output_type": "display_data"
    },
    {
     "name": "stdout",
     "output_type": "stream",
     "text": [
      "              precision    recall  f1-score   support\n",
      "\n",
      "           1       1.00      1.00      1.00       316\n",
      "           2       1.00      1.00      1.00       339\n",
      "           3       1.00      1.00      1.00       352\n",
      "           4       1.00      1.00      1.00       310\n",
      "           5       0.99      0.99      0.99       336\n",
      "           6       1.00      1.00      1.00       321\n",
      "           7       0.99      0.98      0.99       329\n",
      "           8       1.00      1.00      1.00       334\n",
      "\n",
      "    accuracy                           1.00      2637\n",
      "   macro avg       1.00      1.00      1.00      2637\n",
      "weighted avg       1.00      1.00      1.00      2637\n",
      "\n",
      "0.9958290234832986\n"
     ]
    },
    {
     "data": {
      "image/png": "[encoded data removed]",
      "text/plain": [
       "<Figure size 432x288 with 2 Axes>"
      ]
     },
     "metadata": {
      "needs_background": "light"
     },
     "output_type": "display_data"
    },
    {
     "name": "stdout",
     "output_type": "stream",
     "text": [
      "              precision    recall  f1-score   support\n",
      "\n",
      "           1       1.00      1.00      1.00       316\n",
      "           2       1.00      1.00      1.00       339\n",
      "           3       1.00      1.00      1.00       352\n",
      "           4       1.00      1.00      1.00       310\n",
      "           5       0.97      0.99      0.98       337\n",
      "           6       1.00      1.00      1.00       320\n",
      "           7       0.98      0.97      0.98       330\n",
      "           8       1.00      1.00      1.00       334\n",
      "\n",
      "    accuracy                           0.99      2638\n",
      "   macro avg       0.99      0.99      0.99      2638\n",
      "weighted avg       0.99      0.99      0.99      2638\n",
      "\n",
      "0.9954502361492443\n"
     ]
    },
    {
     "data": {
      "image/png": "[encoded data removed]",
      "text/plain": [
       "<Figure size 432x288 with 2 Axes>"
      ]
     },
     "metadata": {
      "needs_background": "light"
     },
     "output_type": "display_data"
    },
    {
     "name": "stdout",
     "output_type": "stream",
     "text": [
      "              precision    recall  f1-score   support\n",
      "\n",
      "           1       1.00      1.00      1.00       318\n",
      "           2       1.00      1.00      1.00       339\n",
      "           3       1.00      1.00      1.00       352\n",
      "           4       1.00      1.00      1.00       310\n",
      "           5       0.99      0.99      0.99       336\n",
      "           6       1.00      1.00      1.00       319\n",
      "           7       0.99      0.99      0.99       329\n",
      "           8       1.00      1.00      1.00       334\n",
      "\n",
      "    accuracy                           1.00      2637\n",
      "   macro avg       1.00      1.00      1.00      2637\n",
      "weighted avg       1.00      1.00      1.00      2637\n",
      "\n",
      "0.9956775950627401\n"
     ]
    }
   ],
   "source": [
    "skf = StratifiedKFold(n_splits=n_folds,random_state=42,shuffle=True)\n",
    "\n",
    "df_y_1 = df_y[\"not_open\"]\n",
    "skf.get_n_splits(flatten_X, df_y_1)\n",
    "\n",
    "# создадим список всех метрик с кросс-валидации и посчитаем их среднее\n",
    "scores = []\n",
    "\n",
    "for fold_id, (train_index, test_index) in enumerate(skf.split(flatten_X, df_y_1)):\n",
    "\n",
    "    X_train_bin, X_test_bin = flatten_X.iloc[train_index], flatten_X.iloc[test_index]\n",
    "    y_train_bin, y_test_bin = df_y_1.iloc[train_index], df_y_1.iloc[test_index]\n",
    "    \n",
    "    logreg_0 = LogisticRegression(random_state=42, max_iter = 5000, solver = 'lbfgs', penalty='none')\n",
    "    logreg_0.fit(X_train_bin, y_train_bin)\n",
    "    \n",
    "    prediction_bin = logreg_0.predict(X_test_bin)\n",
    "    \n",
    "\n",
    "   # мультиклассовая классификация\n",
    "    not_open_indexes = df_y[\"class\"][df_y[\"class\"] > 0].index\n",
    "    actions_x = flatten_X.loc[not_open_indexes]\n",
    "    actions_y = df_y[\"class\"].loc[not_open_indexes]\n",
    "    actions_y.value_counts()\n",
    "    \n",
    "    open_action_predict = logreg_0 .predict(actions_x)\n",
    "\n",
    "    act_df = pd.DataFrame(open_action_predict, columns=[\"not_open\"], index=not_open_indexes)\n",
    "    pure_action_index = act_df[\"not_open\"][act_df[\"not_open\"] > 0 ].index\n",
    "    clear_action_X = actions_x.loc[pure_action_index]\n",
    "    clear_action_y = actions_y.loc[pure_action_index]\n",
    "    clear_action_y.value_counts()\n",
    "    \n",
    "    train_act_X, test_act_X, train_act_y, test_act_y = train_test_split(\n",
    "    clear_action_X,\n",
    "    clear_action_y,\n",
    "    random_state=42,\n",
    "    test_size=0.2,\n",
    "    stratify=clear_action_y\n",
    "    )\n",
    "\n",
    "    act_logreg = LogisticRegression(random_state=42, max_iter=15000, solver = 'lbfgs')\n",
    "    act_logreg.fit(train_act_X,train_act_y)\n",
    "\n",
    "    act_prediction = act_logreg.predict(test_act_X)\n",
    "    \n",
    "    act_cm = confusion_matrix(test_act_y, act_prediction)\n",
    "    disp = ConfusionMatrixDisplay(confusion_matrix=act_cm)\n",
    "    disp.plot()\n",
    "\n",
    "    plt.show()\n",
    "\n",
    "    print(classification_report(test_act_y, act_prediction))\n",
    "    \n",
    "    scores.append(accuracy_score(test_act_y, act_prediction))\n",
    "    print(np.mean(scores))\n"
   ]
  },
  {
   "cell_type": "markdown",
   "metadata": {},
   "source": [
    "Видим, что на всех наборах данных значения метрик достаточно высокие и стабильные, переобучение не наблюдается. Делаем вывод, что подобраны оптимальные модели машинного обучения. "
   ]
  },
  {
   "cell_type": "markdown",
   "metadata": {},
   "source": [
    "Обучим модель на всех тренировочных данных"
   ]
  },
  {
   "cell_type": "markdown",
   "metadata": {},
   "source": [
    "## Бинарная классификация"
   ]
  },
  {
   "cell_type": "code",
   "execution_count": 15,
   "metadata": {},
   "outputs": [],
   "source": [
    "# выделим 20% данных на тестовую выборку (параметр test_size)\n",
    "X_train_bin, X_test_bin, y_train_bin, y_test_bin = train_test_split(\n",
    "    flatten_X, df_y[\"not_open\"],\n",
    "    test_size=0.2,\n",
    "    random_state=19,\n",
    "    stratify=df_y[\"not_open\"]\n",
    ")"
   ]
  },
  {
   "cell_type": "code",
   "execution_count": 16,
   "metadata": {},
   "outputs": [
    {
     "data": {
      "text/html": [
       "<style>#sk-container-id-1 {color: black;background-color: white;}#sk-container-id-1 pre{padding: 0;}#sk-container-id-1 div.sk-toggleable {background-color: white;}#sk-container-id-1 label.sk-toggleable__label {cursor: pointer;display: block;width: 100%;margin-bottom: 0;padding: 0.3em;box-sizing: border-box;text-align: center;}#sk-container-id-1 label.sk-toggleable__label-arrow:before {content: \"▸\";float: left;margin-right: 0.25em;color: #696969;}#sk-container-id-1 label.sk-toggleable__label-arrow:hover:before {color: black;}#sk-container-id-1 div.sk-estimator:hover label.sk-toggleable__label-arrow:before {color: black;}#sk-container-id-1 div.sk-toggleable__content {max-height: 0;max-width: 0;overflow: hidden;text-align: left;background-color: #f0f8ff;}#sk-container-id-1 div.sk-toggleable__content pre {margin: 0.2em;color: black;border-radius: 0.25em;background-color: #f0f8ff;}#sk-container-id-1 input.sk-toggleable__control:checked~div.sk-toggleable__content {max-height: 200px;max-width: 100%;overflow: auto;}#sk-container-id-1 input.sk-toggleable__control:checked~label.sk-toggleable__label-arrow:before {content: \"▾\";}#sk-container-id-1 div.sk-estimator input.sk-toggleable__control:checked~label.sk-toggleable__label {background-color: #d4ebff;}#sk-container-id-1 div.sk-label input.sk-toggleable__control:checked~label.sk-toggleable__label {background-color: #d4ebff;}#sk-container-id-1 input.sk-hidden--visually {border: 0;clip: rect(1px 1px 1px 1px);clip: rect(1px, 1px, 1px, 1px);height: 1px;margin: -1px;overflow: hidden;padding: 0;position: absolute;width: 1px;}#sk-container-id-1 div.sk-estimator {font-family: monospace;background-color: #f0f8ff;border: 1px dotted black;border-radius: 0.25em;box-sizing: border-box;margin-bottom: 0.5em;}#sk-container-id-1 div.sk-estimator:hover {background-color: #d4ebff;}#sk-container-id-1 div.sk-parallel-item::after {content: \"\";width: 100%;border-bottom: 1px solid gray;flex-grow: 1;}#sk-container-id-1 div.sk-label:hover label.sk-toggleable__label {background-color: #d4ebff;}#sk-container-id-1 div.sk-serial::before {content: \"\";position: absolute;border-left: 1px solid gray;box-sizing: border-box;top: 0;bottom: 0;left: 50%;z-index: 0;}#sk-container-id-1 div.sk-serial {display: flex;flex-direction: column;align-items: center;background-color: white;padding-right: 0.2em;padding-left: 0.2em;position: relative;}#sk-container-id-1 div.sk-item {position: relative;z-index: 1;}#sk-container-id-1 div.sk-parallel {display: flex;align-items: stretch;justify-content: center;background-color: white;position: relative;}#sk-container-id-1 div.sk-item::before, #sk-container-id-1 div.sk-parallel-item::before {content: \"\";position: absolute;border-left: 1px solid gray;box-sizing: border-box;top: 0;bottom: 0;left: 50%;z-index: -1;}#sk-container-id-1 div.sk-parallel-item {display: flex;flex-direction: column;z-index: 1;position: relative;background-color: white;}#sk-container-id-1 div.sk-parallel-item:first-child::after {align-self: flex-end;width: 50%;}#sk-container-id-1 div.sk-parallel-item:last-child::after {align-self: flex-start;width: 50%;}#sk-container-id-1 div.sk-parallel-item:only-child::after {width: 0;}#sk-container-id-1 div.sk-dashed-wrapped {border: 1px dashed gray;margin: 0 0.4em 0.5em 0.4em;box-sizing: border-box;padding-bottom: 0.4em;background-color: white;}#sk-container-id-1 div.sk-label label {font-family: monospace;font-weight: bold;display: inline-block;line-height: 1.2em;}#sk-container-id-1 div.sk-label-container {text-align: center;}#sk-container-id-1 div.sk-container {/* jupyter's `normalize.less` sets `[hidden] { display: none; }` but bootstrap.min.css set `[hidden] { display: none !important; }` so we also need the `!important` here to be able to override the default hidden behavior on the sphinx rendered scikit-learn.org. See: https://github.com/scikit-learn/scikit-learn/issues/21755 */display: inline-block !important;position: relative;}#sk-container-id-1 div.sk-text-repr-fallback {display: none;}</style><div id=\"sk-container-id-1\" class=\"sk-top-container\"><div class=\"sk-text-repr-fallback\"><pre>LogisticRegression(max_iter=5000, penalty=&#x27;none&#x27;, random_state=42)</pre><b>In a Jupyter environment, please rerun this cell to show the HTML representation or trust the notebook. <br />On GitHub, the HTML representation is unable to render, please try loading this page with nbviewer.org.</b></div><div class=\"sk-container\" hidden><div class=\"sk-item\"><div class=\"sk-estimator sk-toggleable\"><input class=\"sk-toggleable__control sk-hidden--visually\" id=\"sk-estimator-id-1\" type=\"checkbox\" checked><label for=\"sk-estimator-id-1\" class=\"sk-toggleable__label sk-toggleable__label-arrow\">LogisticRegression</label><div class=\"sk-toggleable__content\"><pre>LogisticRegression(max_iter=5000, penalty=&#x27;none&#x27;, random_state=42)</pre></div></div></div></div></div>"
      ],
      "text/plain": [
       "LogisticRegression(max_iter=5000, penalty='none', random_state=42)"
      ]
     },
     "execution_count": 16,
     "metadata": {},
     "output_type": "execute_result"
    }
   ],
   "source": [
    "#Обучаем модель\n",
    "logreg_0 = LogisticRegression(random_state=42, max_iter = 5000, solver = 'lbfgs', penalty='none')\n",
    "logreg_0.fit(X_train_bin, y_train_bin)"
   ]
  },
  {
   "cell_type": "code",
   "execution_count": 17,
   "metadata": {},
   "outputs": [],
   "source": [
    "prediction_bin = logreg_0.predict(X_test_bin)"
   ]
  },
  {
   "cell_type": "code",
   "execution_count": 18,
   "metadata": {},
   "outputs": [
    {
     "data": {
      "image/png": "[encoded data removed]",
      "text/plain": [
       "<Figure size 432x288 with 2 Axes>"
      ]
     },
     "metadata": {
      "needs_background": "light"
     },
     "output_type": "display_data"
    },
    {
     "name": "stdout",
     "output_type": "stream",
     "text": [
      "              precision    recall  f1-score   support\n",
      "\n",
      "           0       0.97      0.98      0.97      3701\n",
      "           1       0.97      0.96      0.96      2759\n",
      "\n",
      "    accuracy                           0.97      6460\n",
      "   macro avg       0.97      0.97      0.97      6460\n",
      "weighted avg       0.97      0.97      0.97      6460\n",
      "\n"
     ]
    }
   ],
   "source": [
    "# для наглядности полученных результатов выведем confusion matrix\n",
    "bin_labels = {0: \"Open\", 1: \"not open\"}\n",
    "cm = confusion_matrix(y_test_bin, prediction_bin)\n",
    "disp = ConfusionMatrixDisplay(confusion_matrix=cm,\n",
    "                              display_labels=bin_labels)\n",
    "disp.plot()\n",
    "\n",
    "plt.show()\n",
    "\n",
    "print(classification_report(y_test_bin, prediction_bin))"
   ]
  },
  {
   "cell_type": "markdown",
   "metadata": {},
   "source": [
    "Получили достаточно высокие метрики для бинарной классификации"
   ]
  },
  {
   "cell_type": "markdown",
   "metadata": {},
   "source": [
    "## Мультиклассовая классификация"
   ]
  },
  {
   "cell_type": "code",
   "execution_count": 19,
   "metadata": {},
   "outputs": [
    {
     "data": {
      "text/html": [
       "<div>\n",
       "<style scoped>\n",
       "    .dataframe tbody tr th:only-of-type {\n",
       "        vertical-align: middle;\n",
       "    }\n",
       "\n",
       "    .dataframe tbody tr th {\n",
       "        vertical-align: top;\n",
       "    }\n",
       "\n",
       "    .dataframe thead th {\n",
       "        text-align: right;\n",
       "    }\n",
       "</style>\n",
       "<table border=\"1\" class=\"dataframe\">\n",
       "  <thead>\n",
       "    <tr style=\"text-align: right;\">\n",
       "      <th></th>\n",
       "      <th>0</th>\n",
       "      <th>1</th>\n",
       "      <th>2</th>\n",
       "      <th>3</th>\n",
       "      <th>4</th>\n",
       "      <th>5</th>\n",
       "      <th>6</th>\n",
       "      <th>7</th>\n",
       "      <th>8</th>\n",
       "      <th>9</th>\n",
       "      <th>10</th>\n",
       "      <th>11</th>\n",
       "      <th>12</th>\n",
       "      <th>13</th>\n",
       "      <th>14</th>\n",
       "      <th>15</th>\n",
       "    </tr>\n",
       "  </thead>\n",
       "  <tbody>\n",
       "    <tr>\n",
       "      <th>30520</th>\n",
       "      <td>1763</td>\n",
       "      <td>1591</td>\n",
       "      <td>2136</td>\n",
       "      <td>1364</td>\n",
       "      <td>756</td>\n",
       "      <td>849</td>\n",
       "      <td>1855</td>\n",
       "      <td>3007</td>\n",
       "      <td>1474</td>\n",
       "      <td>2308</td>\n",
       "      <td>2070</td>\n",
       "      <td>1389</td>\n",
       "      <td>1884</td>\n",
       "      <td>1164</td>\n",
       "      <td>1544</td>\n",
       "      <td>423</td>\n",
       "    </tr>\n",
       "    <tr>\n",
       "      <th>25154</th>\n",
       "      <td>1428</td>\n",
       "      <td>1533</td>\n",
       "      <td>2035</td>\n",
       "      <td>1264</td>\n",
       "      <td>648</td>\n",
       "      <td>804</td>\n",
       "      <td>1809</td>\n",
       "      <td>2608</td>\n",
       "      <td>1370</td>\n",
       "      <td>2162</td>\n",
       "      <td>1973</td>\n",
       "      <td>1403</td>\n",
       "      <td>1543</td>\n",
       "      <td>1162</td>\n",
       "      <td>1606</td>\n",
       "      <td>403</td>\n",
       "    </tr>\n",
       "    <tr>\n",
       "      <th>27829</th>\n",
       "      <td>1105</td>\n",
       "      <td>1360</td>\n",
       "      <td>1581</td>\n",
       "      <td>1036</td>\n",
       "      <td>640</td>\n",
       "      <td>728</td>\n",
       "      <td>1787</td>\n",
       "      <td>2467</td>\n",
       "      <td>1419</td>\n",
       "      <td>2854</td>\n",
       "      <td>1361</td>\n",
       "      <td>1062</td>\n",
       "      <td>1505</td>\n",
       "      <td>1145</td>\n",
       "      <td>1705</td>\n",
       "      <td>625</td>\n",
       "    </tr>\n",
       "    <tr>\n",
       "      <th>13553</th>\n",
       "      <td>716</td>\n",
       "      <td>1234</td>\n",
       "      <td>1145</td>\n",
       "      <td>616</td>\n",
       "      <td>920</td>\n",
       "      <td>906</td>\n",
       "      <td>2037</td>\n",
       "      <td>3156</td>\n",
       "      <td>1273</td>\n",
       "      <td>2035</td>\n",
       "      <td>1914</td>\n",
       "      <td>1255</td>\n",
       "      <td>1196</td>\n",
       "      <td>1047</td>\n",
       "      <td>1612</td>\n",
       "      <td>416</td>\n",
       "    </tr>\n",
       "    <tr>\n",
       "      <th>492</th>\n",
       "      <td>994</td>\n",
       "      <td>839</td>\n",
       "      <td>878</td>\n",
       "      <td>996</td>\n",
       "      <td>385</td>\n",
       "      <td>617</td>\n",
       "      <td>1621</td>\n",
       "      <td>1968</td>\n",
       "      <td>1368</td>\n",
       "      <td>2506</td>\n",
       "      <td>1275</td>\n",
       "      <td>940</td>\n",
       "      <td>2150</td>\n",
       "      <td>1229</td>\n",
       "      <td>1607</td>\n",
       "      <td>768</td>\n",
       "    </tr>\n",
       "    <tr>\n",
       "      <th>...</th>\n",
       "      <td>...</td>\n",
       "      <td>...</td>\n",
       "      <td>...</td>\n",
       "      <td>...</td>\n",
       "      <td>...</td>\n",
       "      <td>...</td>\n",
       "      <td>...</td>\n",
       "      <td>...</td>\n",
       "      <td>...</td>\n",
       "      <td>...</td>\n",
       "      <td>...</td>\n",
       "      <td>...</td>\n",
       "      <td>...</td>\n",
       "      <td>...</td>\n",
       "      <td>...</td>\n",
       "      <td>...</td>\n",
       "    </tr>\n",
       "    <tr>\n",
       "      <th>23644</th>\n",
       "      <td>749</td>\n",
       "      <td>646</td>\n",
       "      <td>1095</td>\n",
       "      <td>611</td>\n",
       "      <td>479</td>\n",
       "      <td>616</td>\n",
       "      <td>1732</td>\n",
       "      <td>2308</td>\n",
       "      <td>1346</td>\n",
       "      <td>2379</td>\n",
       "      <td>1160</td>\n",
       "      <td>888</td>\n",
       "      <td>929</td>\n",
       "      <td>1113</td>\n",
       "      <td>1967</td>\n",
       "      <td>332</td>\n",
       "    </tr>\n",
       "    <tr>\n",
       "      <th>30708</th>\n",
       "      <td>1296</td>\n",
       "      <td>1522</td>\n",
       "      <td>2033</td>\n",
       "      <td>1088</td>\n",
       "      <td>793</td>\n",
       "      <td>866</td>\n",
       "      <td>2022</td>\n",
       "      <td>2580</td>\n",
       "      <td>1381</td>\n",
       "      <td>1882</td>\n",
       "      <td>1763</td>\n",
       "      <td>1096</td>\n",
       "      <td>976</td>\n",
       "      <td>1081</td>\n",
       "      <td>1875</td>\n",
       "      <td>413</td>\n",
       "    </tr>\n",
       "    <tr>\n",
       "      <th>28444</th>\n",
       "      <td>1009</td>\n",
       "      <td>1058</td>\n",
       "      <td>1457</td>\n",
       "      <td>951</td>\n",
       "      <td>528</td>\n",
       "      <td>629</td>\n",
       "      <td>1900</td>\n",
       "      <td>2489</td>\n",
       "      <td>1708</td>\n",
       "      <td>3400</td>\n",
       "      <td>1723</td>\n",
       "      <td>1452</td>\n",
       "      <td>1338</td>\n",
       "      <td>1185</td>\n",
       "      <td>1727</td>\n",
       "      <td>587</td>\n",
       "    </tr>\n",
       "    <tr>\n",
       "      <th>31382</th>\n",
       "      <td>1269</td>\n",
       "      <td>1263</td>\n",
       "      <td>1900</td>\n",
       "      <td>1129</td>\n",
       "      <td>646</td>\n",
       "      <td>825</td>\n",
       "      <td>1887</td>\n",
       "      <td>2472</td>\n",
       "      <td>1169</td>\n",
       "      <td>1857</td>\n",
       "      <td>1561</td>\n",
       "      <td>1044</td>\n",
       "      <td>935</td>\n",
       "      <td>1087</td>\n",
       "      <td>1929</td>\n",
       "      <td>365</td>\n",
       "    </tr>\n",
       "    <tr>\n",
       "      <th>11212</th>\n",
       "      <td>1049</td>\n",
       "      <td>1261</td>\n",
       "      <td>1761</td>\n",
       "      <td>1031</td>\n",
       "      <td>524</td>\n",
       "      <td>653</td>\n",
       "      <td>1773</td>\n",
       "      <td>2373</td>\n",
       "      <td>1498</td>\n",
       "      <td>2959</td>\n",
       "      <td>1463</td>\n",
       "      <td>1141</td>\n",
       "      <td>1455</td>\n",
       "      <td>1205</td>\n",
       "      <td>1745</td>\n",
       "      <td>621</td>\n",
       "    </tr>\n",
       "  </tbody>\n",
       "</table>\n",
       "<p>25840 rows × 16 columns</p>\n",
       "</div>"
      ],
      "text/plain": [
       "         0     1     2     3    4    5     6     7     8     9     10    11  \\\n",
       "30520  1763  1591  2136  1364  756  849  1855  3007  1474  2308  2070  1389   \n",
       "25154  1428  1533  2035  1264  648  804  1809  2608  1370  2162  1973  1403   \n",
       "27829  1105  1360  1581  1036  640  728  1787  2467  1419  2854  1361  1062   \n",
       "13553   716  1234  1145   616  920  906  2037  3156  1273  2035  1914  1255   \n",
       "492     994   839   878   996  385  617  1621  1968  1368  2506  1275   940   \n",
       "...     ...   ...   ...   ...  ...  ...   ...   ...   ...   ...   ...   ...   \n",
       "23644   749   646  1095   611  479  616  1732  2308  1346  2379  1160   888   \n",
       "30708  1296  1522  2033  1088  793  866  2022  2580  1381  1882  1763  1096   \n",
       "28444  1009  1058  1457   951  528  629  1900  2489  1708  3400  1723  1452   \n",
       "31382  1269  1263  1900  1129  646  825  1887  2472  1169  1857  1561  1044   \n",
       "11212  1049  1261  1761  1031  524  653  1773  2373  1498  2959  1463  1141   \n",
       "\n",
       "         12    13    14   15  \n",
       "30520  1884  1164  1544  423  \n",
       "25154  1543  1162  1606  403  \n",
       "27829  1505  1145  1705  625  \n",
       "13553  1196  1047  1612  416  \n",
       "492    2150  1229  1607  768  \n",
       "...     ...   ...   ...  ...  \n",
       "23644   929  1113  1967  332  \n",
       "30708   976  1081  1875  413  \n",
       "28444  1338  1185  1727  587  \n",
       "31382   935  1087  1929  365  \n",
       "11212  1455  1205  1745  621  \n",
       "\n",
       "[25840 rows x 16 columns]"
      ]
     },
     "execution_count": 19,
     "metadata": {},
     "output_type": "execute_result"
    }
   ],
   "source": [
    "X_train_bin"
   ]
  },
  {
   "cell_type": "code",
   "execution_count": 20,
   "metadata": {
    "scrolled": true
   },
   "outputs": [
    {
     "data": {
      "text/plain": [
       "array([[1123., 1450., 1743., ..., 1169., 1677.,  718.],\n",
       "       [1125., 1441., 1738., ..., 1170., 1673.,  730.],\n",
       "       [1121., 1444., 1732., ..., 1169., 1670.,  727.],\n",
       "       ...,\n",
       "       [1026., 1360., 1560., ..., 1156., 1655.,  738.],\n",
       "       [1027., 1358., 1556., ..., 1172., 1653.,  744.],\n",
       "       [1025., 1358., 1554., ..., 1173., 1655.,  743.]])"
      ]
     },
     "execution_count": 20,
     "metadata": {},
     "output_type": "execute_result"
    }
   ],
   "source": [
    "X_tres_train[0].T"
   ]
  },
  {
   "cell_type": "code",
   "execution_count": 21,
   "metadata": {},
   "outputs": [
    {
     "data": {
      "text/plain": [
       "array([7, 7, 7, 7, 7, 7, 7, 7, 7, 7, 7, 7, 7, 7, 7, 7, 7, 7, 7, 7, 7, 7,\n",
       "       7, 7, 7, 7, 7, 7, 7, 7, 7, 7, 7, 7, 7, 7, 7, 7, 7, 7, 7, 7, 7, 7,\n",
       "       7, 7, 7, 7, 7, 7, 7, 7, 7, 7, 7, 7, 7, 7, 7, 7, 7, 7, 7, 7, 7, 7,\n",
       "       0, 0, 0, 0, 0, 0, 0, 0, 0, 0, 0, 0, 0, 0, 0, 0, 0, 0, 0, 0, 0, 0,\n",
       "       0, 0, 0, 0, 0, 0, 0, 0, 0, 0, 0, 0], dtype=int64)"
      ]
     },
     "execution_count": 21,
     "metadata": {},
     "output_type": "execute_result"
    }
   ],
   "source": [
    "# создаем массив на основе y_train c преобразованием размерности.\n",
    "str_y = np.array(y_train[\"class_new\"]).reshape(323,100)\n",
    "str_y[123]"
   ]
  },
  {
   "cell_type": "code",
   "execution_count": 22,
   "metadata": {},
   "outputs": [
    {
     "name": "stdout",
     "output_type": "stream",
     "text": [
      "Open duration: 74\n"
     ]
    },
    {
     "data": {
      "image/png": "[encoded data removed]",
      "text/plain": [
       "<Figure size 720x360 with 3 Axes>"
      ]
     },
     "metadata": {
      "needs_background": "light"
     },
     "output_type": "display_data"
    }
   ],
   "source": [
    "# на графике виден переход с 0 до 1 при выполнении жеста.\n",
    "index = 48\n",
    "xdata = np.arange(100)\n",
    "data = logreg_0.predict(X_tres_train[index].T)\n",
    "fig, axs = plt.subplots(3, 1, figsize=(10, 5), gridspec_kw={'height_ratios': [4,0.5,2]})\n",
    "axs[0].plot(xdata,X_tres_train[index].T)\n",
    "axs[1].plot(xdata, data)\n",
    "axs[2].plot(xdata, str_y[index])\n",
    "axs[2].set_yticks(\n",
    "    np.arange(9),\n",
    "    ['Open', 'Pinky', 'Ring', 'Middle', 'Pistol', 'Index', 'Thumb', 'OK', 'Grab'])\n",
    "fig.tight_layout()\n",
    "\n",
    "print(f\"Open duration: {len(data[data==0])}\")"
   ]
  },
  {
   "cell_type": "code",
   "execution_count": 23,
   "metadata": {},
   "outputs": [
    {
     "data": {
      "text/plain": [
       "6    1974\n",
       "3    1768\n",
       "2    1711\n",
       "5    1704\n",
       "1    1688\n",
       "7    1670\n",
       "8    1668\n",
       "4    1612\n",
       "Name: class, dtype: int64"
      ]
     },
     "execution_count": 23,
     "metadata": {},
     "output_type": "execute_result"
    }
   ],
   "source": [
    "# формируем данные для многоклассовой классификации, где берем \n",
    "# только те данные, где был совершен жест.\n",
    "not_open_indexes = df_y[\"class\"][df_y[\"class\"] > 0].index\n",
    "actions_x = flatten_X.loc[not_open_indexes]\n",
    "actions_y = df_y[\"class\"].loc[not_open_indexes]\n",
    "actions_y.value_counts()"
   ]
  },
  {
   "cell_type": "code",
   "execution_count": 24,
   "metadata": {},
   "outputs": [
    {
     "data": {
      "text/html": [
       "<div>\n",
       "<style scoped>\n",
       "    .dataframe tbody tr th:only-of-type {\n",
       "        vertical-align: middle;\n",
       "    }\n",
       "\n",
       "    .dataframe tbody tr th {\n",
       "        vertical-align: top;\n",
       "    }\n",
       "\n",
       "    .dataframe thead th {\n",
       "        text-align: right;\n",
       "    }\n",
       "</style>\n",
       "<table border=\"1\" class=\"dataframe\">\n",
       "  <thead>\n",
       "    <tr style=\"text-align: right;\">\n",
       "      <th></th>\n",
       "      <th>0</th>\n",
       "      <th>1</th>\n",
       "      <th>2</th>\n",
       "      <th>3</th>\n",
       "      <th>4</th>\n",
       "      <th>5</th>\n",
       "      <th>6</th>\n",
       "      <th>7</th>\n",
       "      <th>8</th>\n",
       "      <th>9</th>\n",
       "      <th>10</th>\n",
       "      <th>11</th>\n",
       "      <th>12</th>\n",
       "      <th>13</th>\n",
       "      <th>14</th>\n",
       "      <th>15</th>\n",
       "    </tr>\n",
       "  </thead>\n",
       "  <tbody>\n",
       "    <tr>\n",
       "      <th>7490</th>\n",
       "      <td>820</td>\n",
       "      <td>1131</td>\n",
       "      <td>1260</td>\n",
       "      <td>856</td>\n",
       "      <td>490</td>\n",
       "      <td>752</td>\n",
       "      <td>1704</td>\n",
       "      <td>2129</td>\n",
       "      <td>1334</td>\n",
       "      <td>2457</td>\n",
       "      <td>1441</td>\n",
       "      <td>1003</td>\n",
       "      <td>1777</td>\n",
       "      <td>1239</td>\n",
       "      <td>1850</td>\n",
       "      <td>819</td>\n",
       "    </tr>\n",
       "    <tr>\n",
       "      <th>27557</th>\n",
       "      <td>878</td>\n",
       "      <td>692</td>\n",
       "      <td>776</td>\n",
       "      <td>833</td>\n",
       "      <td>350</td>\n",
       "      <td>582</td>\n",
       "      <td>1687</td>\n",
       "      <td>2380</td>\n",
       "      <td>1496</td>\n",
       "      <td>2986</td>\n",
       "      <td>1305</td>\n",
       "      <td>1076</td>\n",
       "      <td>2296</td>\n",
       "      <td>1185</td>\n",
       "      <td>1627</td>\n",
       "      <td>871</td>\n",
       "    </tr>\n",
       "    <tr>\n",
       "      <th>20087</th>\n",
       "      <td>1417</td>\n",
       "      <td>1699</td>\n",
       "      <td>2037</td>\n",
       "      <td>1428</td>\n",
       "      <td>817</td>\n",
       "      <td>909</td>\n",
       "      <td>1985</td>\n",
       "      <td>2529</td>\n",
       "      <td>1314</td>\n",
       "      <td>1624</td>\n",
       "      <td>2021</td>\n",
       "      <td>1203</td>\n",
       "      <td>1823</td>\n",
       "      <td>1238</td>\n",
       "      <td>1933</td>\n",
       "      <td>835</td>\n",
       "    </tr>\n",
       "    <tr>\n",
       "      <th>7744</th>\n",
       "      <td>963</td>\n",
       "      <td>711</td>\n",
       "      <td>754</td>\n",
       "      <td>900</td>\n",
       "      <td>403</td>\n",
       "      <td>683</td>\n",
       "      <td>1668</td>\n",
       "      <td>2136</td>\n",
       "      <td>1309</td>\n",
       "      <td>2445</td>\n",
       "      <td>1456</td>\n",
       "      <td>1054</td>\n",
       "      <td>2073</td>\n",
       "      <td>1134</td>\n",
       "      <td>1727</td>\n",
       "      <td>611</td>\n",
       "    </tr>\n",
       "    <tr>\n",
       "      <th>6940</th>\n",
       "      <td>1236</td>\n",
       "      <td>1073</td>\n",
       "      <td>968</td>\n",
       "      <td>1232</td>\n",
       "      <td>466</td>\n",
       "      <td>763</td>\n",
       "      <td>1657</td>\n",
       "      <td>2209</td>\n",
       "      <td>1497</td>\n",
       "      <td>2881</td>\n",
       "      <td>1493</td>\n",
       "      <td>1213</td>\n",
       "      <td>2340</td>\n",
       "      <td>1277</td>\n",
       "      <td>1659</td>\n",
       "      <td>843</td>\n",
       "    </tr>\n",
       "  </tbody>\n",
       "</table>\n",
       "</div>"
      ],
      "text/plain": [
       "         0     1     2     3    4    5     6     7     8     9     10    11  \\\n",
       "7490    820  1131  1260   856  490  752  1704  2129  1334  2457  1441  1003   \n",
       "27557   878   692   776   833  350  582  1687  2380  1496  2986  1305  1076   \n",
       "20087  1417  1699  2037  1428  817  909  1985  2529  1314  1624  2021  1203   \n",
       "7744    963   711   754   900  403  683  1668  2136  1309  2445  1456  1054   \n",
       "6940   1236  1073   968  1232  466  763  1657  2209  1497  2881  1493  1213   \n",
       "\n",
       "         12    13    14   15  \n",
       "7490   1777  1239  1850  819  \n",
       "27557  2296  1185  1627  871  \n",
       "20087  1823  1238  1933  835  \n",
       "7744   2073  1134  1727  611  \n",
       "6940   2340  1277  1659  843  "
      ]
     },
     "execution_count": 24,
     "metadata": {},
     "output_type": "execute_result"
    }
   ],
   "source": [
    "actions_x.sample(5)"
   ]
  },
  {
   "cell_type": "markdown",
   "metadata": {},
   "source": [
    "Теперь из имеющихся данных исключаем строки, в которых бинарная классификация\n",
    "определяет состояние руки `open`."
   ]
  },
  {
   "cell_type": "code",
   "execution_count": 25,
   "metadata": {},
   "outputs": [
    {
     "data": {
      "text/plain": [
       "3    1760\n",
       "2    1696\n",
       "5    1681\n",
       "8    1668\n",
       "7    1645\n",
       "6    1603\n",
       "1    1581\n",
       "4    1551\n",
       "Name: class, dtype: int64"
      ]
     },
     "execution_count": 25,
     "metadata": {},
     "output_type": "execute_result"
    }
   ],
   "source": [
    "open_action_predict = logreg_0.predict(actions_x)\n",
    "act_df = pd.DataFrame(open_action_predict, columns=[\"not_open\"], index=not_open_indexes)\n",
    "pure_action_index = act_df[\"not_open\"][act_df[\"not_open\"] > 0 ].index\n",
    "\n",
    "# формируем данные, которые содержат 'чистые' движения.\n",
    "clear_action_X = actions_x.loc[pure_action_index]\n",
    "clear_action_y = actions_y.loc[pure_action_index]\n",
    "clear_action_y.value_counts()\n"
   ]
  },
  {
   "cell_type": "code",
   "execution_count": 26,
   "metadata": {},
   "outputs": [
    {
     "data": {
      "text/html": [
       "<style>#sk-container-id-2 {color: black;background-color: white;}#sk-container-id-2 pre{padding: 0;}#sk-container-id-2 div.sk-toggleable {background-color: white;}#sk-container-id-2 label.sk-toggleable__label {cursor: pointer;display: block;width: 100%;margin-bottom: 0;padding: 0.3em;box-sizing: border-box;text-align: center;}#sk-container-id-2 label.sk-toggleable__label-arrow:before {content: \"▸\";float: left;margin-right: 0.25em;color: #696969;}#sk-container-id-2 label.sk-toggleable__label-arrow:hover:before {color: black;}#sk-container-id-2 div.sk-estimator:hover label.sk-toggleable__label-arrow:before {color: black;}#sk-container-id-2 div.sk-toggleable__content {max-height: 0;max-width: 0;overflow: hidden;text-align: left;background-color: #f0f8ff;}#sk-container-id-2 div.sk-toggleable__content pre {margin: 0.2em;color: black;border-radius: 0.25em;background-color: #f0f8ff;}#sk-container-id-2 input.sk-toggleable__control:checked~div.sk-toggleable__content {max-height: 200px;max-width: 100%;overflow: auto;}#sk-container-id-2 input.sk-toggleable__control:checked~label.sk-toggleable__label-arrow:before {content: \"▾\";}#sk-container-id-2 div.sk-estimator input.sk-toggleable__control:checked~label.sk-toggleable__label {background-color: #d4ebff;}#sk-container-id-2 div.sk-label input.sk-toggleable__control:checked~label.sk-toggleable__label {background-color: #d4ebff;}#sk-container-id-2 input.sk-hidden--visually {border: 0;clip: rect(1px 1px 1px 1px);clip: rect(1px, 1px, 1px, 1px);height: 1px;margin: -1px;overflow: hidden;padding: 0;position: absolute;width: 1px;}#sk-container-id-2 div.sk-estimator {font-family: monospace;background-color: #f0f8ff;border: 1px dotted black;border-radius: 0.25em;box-sizing: border-box;margin-bottom: 0.5em;}#sk-container-id-2 div.sk-estimator:hover {background-color: #d4ebff;}#sk-container-id-2 div.sk-parallel-item::after {content: \"\";width: 100%;border-bottom: 1px solid gray;flex-grow: 1;}#sk-container-id-2 div.sk-label:hover label.sk-toggleable__label {background-color: #d4ebff;}#sk-container-id-2 div.sk-serial::before {content: \"\";position: absolute;border-left: 1px solid gray;box-sizing: border-box;top: 0;bottom: 0;left: 50%;z-index: 0;}#sk-container-id-2 div.sk-serial {display: flex;flex-direction: column;align-items: center;background-color: white;padding-right: 0.2em;padding-left: 0.2em;position: relative;}#sk-container-id-2 div.sk-item {position: relative;z-index: 1;}#sk-container-id-2 div.sk-parallel {display: flex;align-items: stretch;justify-content: center;background-color: white;position: relative;}#sk-container-id-2 div.sk-item::before, #sk-container-id-2 div.sk-parallel-item::before {content: \"\";position: absolute;border-left: 1px solid gray;box-sizing: border-box;top: 0;bottom: 0;left: 50%;z-index: -1;}#sk-container-id-2 div.sk-parallel-item {display: flex;flex-direction: column;z-index: 1;position: relative;background-color: white;}#sk-container-id-2 div.sk-parallel-item:first-child::after {align-self: flex-end;width: 50%;}#sk-container-id-2 div.sk-parallel-item:last-child::after {align-self: flex-start;width: 50%;}#sk-container-id-2 div.sk-parallel-item:only-child::after {width: 0;}#sk-container-id-2 div.sk-dashed-wrapped {border: 1px dashed gray;margin: 0 0.4em 0.5em 0.4em;box-sizing: border-box;padding-bottom: 0.4em;background-color: white;}#sk-container-id-2 div.sk-label label {font-family: monospace;font-weight: bold;display: inline-block;line-height: 1.2em;}#sk-container-id-2 div.sk-label-container {text-align: center;}#sk-container-id-2 div.sk-container {/* jupyter's `normalize.less` sets `[hidden] { display: none; }` but bootstrap.min.css set `[hidden] { display: none !important; }` so we also need the `!important` here to be able to override the default hidden behavior on the sphinx rendered scikit-learn.org. See: https://github.com/scikit-learn/scikit-learn/issues/21755 */display: inline-block !important;position: relative;}#sk-container-id-2 div.sk-text-repr-fallback {display: none;}</style><div id=\"sk-container-id-2\" class=\"sk-top-container\"><div class=\"sk-text-repr-fallback\"><pre>LogisticRegression(max_iter=15000, random_state=42)</pre><b>In a Jupyter environment, please rerun this cell to show the HTML representation or trust the notebook. <br />On GitHub, the HTML representation is unable to render, please try loading this page with nbviewer.org.</b></div><div class=\"sk-container\" hidden><div class=\"sk-item\"><div class=\"sk-estimator sk-toggleable\"><input class=\"sk-toggleable__control sk-hidden--visually\" id=\"sk-estimator-id-2\" type=\"checkbox\" checked><label for=\"sk-estimator-id-2\" class=\"sk-toggleable__label sk-toggleable__label-arrow\">LogisticRegression</label><div class=\"sk-toggleable__content\"><pre>LogisticRegression(max_iter=15000, random_state=42)</pre></div></div></div></div></div>"
      ],
      "text/plain": [
       "LogisticRegression(max_iter=15000, random_state=42)"
      ]
     },
     "execution_count": 26,
     "metadata": {},
     "output_type": "execute_result"
    }
   ],
   "source": [
    "# Обучаем вторую модель многоклассовой классификации, \n",
    "# которой на вход подаем данные после результата работы первой модели.\n",
    "train_act_X, test_act_X, train_act_y, test_act_y = train_test_split(\n",
    "    clear_action_X,\n",
    "    clear_action_y,\n",
    "    random_state=42,\n",
    "    test_size=0.2,\n",
    "    stratify=clear_action_y\n",
    ")\n",
    "\n",
    "act_logreg = LogisticRegression(random_state=42, max_iter=15000, solver = 'lbfgs')\n",
    "act_logreg.fit(train_act_X,train_act_y)\n"
   ]
  },
  {
   "cell_type": "markdown",
   "metadata": {},
   "source": [
    "Оценим модель многоклассовой классификации."
   ]
  },
  {
   "cell_type": "code",
   "execution_count": 27,
   "metadata": {},
   "outputs": [],
   "source": [
    "act_prediction = act_logreg.predict(test_act_X)"
   ]
  },
  {
   "cell_type": "code",
   "execution_count": 28,
   "metadata": {},
   "outputs": [
    {
     "data": {
      "image/png": "[encoded data removed]",
      "text/plain": [
       "<Figure size 432x288 with 2 Axes>"
      ]
     },
     "metadata": {
      "needs_background": "light"
     },
     "output_type": "display_data"
    },
    {
     "name": "stdout",
     "output_type": "stream",
     "text": [
      "              precision    recall  f1-score   support\n",
      "\n",
      "           1       1.00      1.00      1.00       316\n",
      "           2       1.00      1.00      1.00       339\n",
      "           3       1.00      1.00      1.00       352\n",
      "           4       1.00      1.00      1.00       310\n",
      "           5       0.99      0.98      0.99       336\n",
      "           6       1.00      1.00      1.00       321\n",
      "           7       0.98      0.99      0.98       329\n",
      "           8       1.00      1.00      1.00       334\n",
      "\n",
      "    accuracy                           1.00      2637\n",
      "   macro avg       1.00      1.00      1.00      2637\n",
      "weighted avg       1.00      1.00      1.00      2637\n",
      "\n"
     ]
    }
   ],
   "source": [
    "# Посмотрим на метрики\n",
    "act_cm = confusion_matrix(test_act_y, act_prediction)\n",
    "disp = ConfusionMatrixDisplay(confusion_matrix=act_cm)\n",
    "disp.plot()\n",
    "\n",
    "plt.show()\n",
    "\n",
    "print(classification_report(test_act_y, act_prediction))"
   ]
  },
  {
   "cell_type": "markdown",
   "metadata": {},
   "source": [
    "Видими достаточно хорошие показания метрик."
   ]
  },
  {
   "cell_type": "markdown",
   "metadata": {},
   "source": [
    "Оценим визуально работу классификатора. Сразу добавим для сглаживания моду."
   ]
  },
  {
   "cell_type": "code",
   "execution_count": 29,
   "metadata": {},
   "outputs": [
    {
     "name": "stdout",
     "output_type": "stream",
     "text": [
      "Open duration: 72\n"
     ]
    },
    {
     "data": {
      "image/png": "[encoded data removed]",
      "text/plain": [
       "<Figure size 720x720 with 5 Axes>"
      ]
     },
     "metadata": {
      "needs_background": "light"
     },
     "output_type": "display_data"
    }
   ],
   "source": [
    "sample_index = 256\n",
    "xdata = np.arange(100)\n",
    "sensor_values = X_tres_train[sample_index].T\n",
    "data = np.zeros((100,))\n",
    "act_data = np.zeros((100,))\n",
    "for index, values in enumerate(sensor_values):\n",
    "    if logreg_0.predict([values]):\n",
    "        data[index] = 1\n",
    "        act_data[index] = act_logreg.predict([values])\n",
    "\n",
    "subm_mode = []\n",
    "for k in range(len(act_data)):\n",
    "    subm_mode.append(mode(act_data[k:(k+4)]))\n",
    "\n",
    "# настройка графиков\n",
    "fig, axs = plt.subplots(5, 1, figsize=(10, 10), gridspec_kw={'height_ratios': [6,1.2,1.2,1.2,1.2]})\n",
    "axs[0].plot(xdata,X_tres_train[sample_index].T)\n",
    "axs[1].plot(xdata, str_y[sample_index])\n",
    "axs[1].set_ylim([0,8])\n",
    "axs[1].set_ylabel(ylabel=\"class\", labelpad=1)\n",
    "axs[2].plot(xdata, data)\n",
    "axs[2].set_ylabel(ylabel=\"open\", labelpad=1)\n",
    "axs[3].plot(xdata, act_data)\n",
    "axs[3].set_ylim([0,8])\n",
    "axs[1].set_yticks(\n",
    "    np.arange(9),\n",
    "    ['Open', 'Pinky', 'Ring', 'Middle', 'Pistol', 'Index', 'Thumb', 'OK', 'Grab'])\n",
    "axs[3].set_yticks(\n",
    "    np.arange(8),\n",
    "    ['Pinky', 'Ring', 'Middle', 'Pistol', 'Index', 'Thumb', 'OK', 'Grab'])\n",
    "axs[4].set_yticks(\n",
    "    np.arange(9),\n",
    "    ['Open', 'Pinky', 'Ring', 'Middle', 'Pistol', 'Index', 'Thumb', 'OK', 'Grab'])\n",
    "fig.tight_layout()\n",
    "fig.tight_layout()\n",
    "fig.tight_layout()\n",
    "axs[4].plot(xdata, subm_mode)\n",
    "axs[4].set_ylabel(ylabel=\"mode\", labelpad=1)\n",
    "fig.tight_layout()\n",
    "print(f\"Open duration: {len(data[data==0])}\")"
   ]
  },
  {
   "cell_type": "markdown",
   "metadata": {},
   "source": [
    "# Submission"
   ]
  },
  {
   "cell_type": "code",
   "execution_count": 31,
   "metadata": {},
   "outputs": [
    {
     "data": {
      "text/plain": [
       "5400"
      ]
     },
     "execution_count": 31,
     "metadata": {},
     "output_type": "execute_result"
    }
   ],
   "source": [
    "# загружаем пример sample_submission\n",
    "subm_y = pd.read_csv(\"sample_submission.csv\")\n",
    "subm_len = subm_y.shape[0]\n",
    "subm_len"
   ]
  },
  {
   "cell_type": "markdown",
   "metadata": {},
   "source": [
    "Преобразуем тестовые данные под вид данных, которые принимают наши модели."
   ]
  },
  {
   "cell_type": "code",
   "execution_count": 32,
   "metadata": {},
   "outputs": [
    {
     "data": {
      "text/plain": [
       "(5400, 16)"
      ]
     },
     "execution_count": 32,
     "metadata": {},
     "output_type": "execute_result"
    }
   ],
   "source": [
    "test_tres_X = sensor_treshold_filtr(X_test)\n",
    "test_resp_X = pd.DataFrame(\n",
    "    np.transpose(test_tres_X,(0,2,1)).reshape(subm_len, -1).astype(int)\n",
    ")\n",
    "test_resp_X.shape"
   ]
  },
  {
   "cell_type": "markdown",
   "metadata": {},
   "source": [
    "Для сабмита и для реального использования мы будем использовать предсказания обеих \n",
    "моделей по алгоритму:\n",
    "1. Разворачиваем тестовые данные относительно оси времени и подаем вектор значений\n",
    "датчиков на модель бинарной классификации.\n",
    "2. Если распознается жест `open`, тогда в качестве целевого значения для этого временного значения формируем 0.\n",
    "3. Иначе вектор значений из показаний датчиков отправляется в модель многоклассовой классификации, после которой в целевой переменной формируется номер команды, предсказанный этой моделью. \n",
    "4. Для исключения дребезга в целевой переменной присутствует постобработка предсказанных значений с использованием моды."
   ]
  },
  {
   "cell_type": "code",
   "execution_count": 33,
   "metadata": {},
   "outputs": [
    {
     "data": {
      "text/plain": [
       "5400"
      ]
     },
     "execution_count": 33,
     "metadata": {},
     "output_type": "execute_result"
    }
   ],
   "source": [
    "# формируем наш submission\n",
    "subm = []\n",
    "for values in test_resp_X.values:\n",
    "    if logreg_0.predict([values]):\n",
    "        subm.append(act_logreg.predict([values])[0])\n",
    "    else:\n",
    "        subm.append(0)\n",
    "len(subm)"
   ]
  },
  {
   "cell_type": "code",
   "execution_count": 34,
   "metadata": {},
   "outputs": [
    {
     "data": {
      "text/plain": [
       "4"
      ]
     },
     "execution_count": 34,
     "metadata": {},
     "output_type": "execute_result"
    }
   ],
   "source": [
    "act_logreg.predict([values])[0]"
   ]
  },
  {
   "cell_type": "markdown",
   "metadata": {},
   "source": [
    "В момент выполнения пользователем команды на сигналах датчиков наблюдаются \n",
    "переходные процессы, которые дают неоднозначное определение классов. \n",
    "Для сглаживания этой неоднозначности предназначен блок постпроцессинговой обработки.\n",
    "\n",
    "В нем мы используем сглаживание модой с окном 7.\n",
    "\n",
    "Данное значение было определено экспериментальным путём."
   ]
  },
  {
   "cell_type": "code",
   "execution_count": 35,
   "metadata": {},
   "outputs": [],
   "source": [
    "from statistics import mode\n",
    "\n",
    "def smooth_row(row, mode_value=7):\n",
    "    \"\"\"Сглаживание дребезга.\n",
    "\n",
    "    Сглаживание дребезга в строках с использованием моды.\n",
    "\n",
    "    Аргументы:\n",
    "        row: строка с дребезгом.\n",
    "        mode_value: количество значений, по которым происходит сглаживание,\n",
    "            по умолчанию 7.\n",
    "    \n",
    "    Возвращает:\n",
    "        smoothing_row: сглаженная строка.\n",
    "\n",
    "    \"\"\"\n",
    "    smoothing_row = []\n",
    "    for k in range(len(row)):\n",
    "        smoothing_row.append(mode(row[k:(k + mode_value)]))\n",
    "    len(smoothing_row)\n",
    "    return smoothing_row              "
   ]
  },
  {
   "cell_type": "code",
   "execution_count": 36,
   "metadata": {},
   "outputs": [
    {
     "data": {
      "text/plain": [
       "5400"
      ]
     },
     "execution_count": 36,
     "metadata": {},
     "output_type": "execute_result"
    }
   ],
   "source": [
    "smooth_subm7 = smooth_row(subm, 7)\n",
    "len(smooth_subm7)\n"
   ]
  },
  {
   "cell_type": "code",
   "execution_count": 37,
   "metadata": {},
   "outputs": [],
   "source": [
    "# записываем файл \n",
    "subm_y[\"class\"] = smooth_subm7\n",
    "subm_y.to_csv(\"submission_mode_2_logreg_mode7.csv\", index=False)"
   ]
  },
  {
   "cell_type": "markdown",
   "metadata": {},
   "source": [
    "Score: 0.97407"
   ]
  },
  {
   "cell_type": "code",
   "execution_count": 38,
   "metadata": {},
   "outputs": [
    {
     "data": {
      "text/html": [
       "<div>\n",
       "<style scoped>\n",
       "    .dataframe tbody tr th:only-of-type {\n",
       "        vertical-align: middle;\n",
       "    }\n",
       "\n",
       "    .dataframe tbody tr th {\n",
       "        vertical-align: top;\n",
       "    }\n",
       "\n",
       "    .dataframe thead th {\n",
       "        text-align: right;\n",
       "    }\n",
       "</style>\n",
       "<table border=\"1\" class=\"dataframe\">\n",
       "  <thead>\n",
       "    <tr style=\"text-align: right;\">\n",
       "      <th></th>\n",
       "      <th>sample-timestep</th>\n",
       "      <th>class</th>\n",
       "    </tr>\n",
       "  </thead>\n",
       "  <tbody>\n",
       "    <tr>\n",
       "      <th>0</th>\n",
       "      <td>323-0</td>\n",
       "      <td>4</td>\n",
       "    </tr>\n",
       "    <tr>\n",
       "      <th>1</th>\n",
       "      <td>323-1</td>\n",
       "      <td>4</td>\n",
       "    </tr>\n",
       "    <tr>\n",
       "      <th>2</th>\n",
       "      <td>323-2</td>\n",
       "      <td>4</td>\n",
       "    </tr>\n",
       "    <tr>\n",
       "      <th>3</th>\n",
       "      <td>323-3</td>\n",
       "      <td>4</td>\n",
       "    </tr>\n",
       "    <tr>\n",
       "      <th>4</th>\n",
       "      <td>323-4</td>\n",
       "      <td>4</td>\n",
       "    </tr>\n",
       "    <tr>\n",
       "      <th>...</th>\n",
       "      <td>...</td>\n",
       "      <td>...</td>\n",
       "    </tr>\n",
       "    <tr>\n",
       "      <th>5395</th>\n",
       "      <td>376-95</td>\n",
       "      <td>4</td>\n",
       "    </tr>\n",
       "    <tr>\n",
       "      <th>5396</th>\n",
       "      <td>376-96</td>\n",
       "      <td>4</td>\n",
       "    </tr>\n",
       "    <tr>\n",
       "      <th>5397</th>\n",
       "      <td>376-97</td>\n",
       "      <td>4</td>\n",
       "    </tr>\n",
       "    <tr>\n",
       "      <th>5398</th>\n",
       "      <td>376-98</td>\n",
       "      <td>4</td>\n",
       "    </tr>\n",
       "    <tr>\n",
       "      <th>5399</th>\n",
       "      <td>376-99</td>\n",
       "      <td>4</td>\n",
       "    </tr>\n",
       "  </tbody>\n",
       "</table>\n",
       "<p>5400 rows × 2 columns</p>\n",
       "</div>"
      ],
      "text/plain": [
       "     sample-timestep  class\n",
       "0              323-0      4\n",
       "1              323-1      4\n",
       "2              323-2      4\n",
       "3              323-3      4\n",
       "4              323-4      4\n",
       "...              ...    ...\n",
       "5395          376-95      4\n",
       "5396          376-96      4\n",
       "5397          376-97      4\n",
       "5398          376-98      4\n",
       "5399          376-99      4\n",
       "\n",
       "[5400 rows x 2 columns]"
      ]
     },
     "execution_count": 38,
     "metadata": {},
     "output_type": "execute_result"
    }
   ],
   "source": [
    "subm_y"
   ]
  },
  {
   "cell_type": "code",
   "execution_count": null,
   "metadata": {},
   "outputs": [],
   "source": []
  }
 ],
 "metadata": {
  "kernelspec": {
   "display_name": "Python 3.9.12 64-bit",
   "language": "python",
   "name": "python3"
  },
  "language_info": {
   "codemirror_mode": {
    "name": "ipython",
    "version": 3
   },
   "file_extension": ".py",
   "mimetype": "text/x-python",
   "name": "python",
   "nbconvert_exporter": "python",
   "pygments_lexer": "ipython3",
   "version": "3.9.12"
  },
  "vscode": {
   "interpreter": {
    "hash": "93e5499867a482d1f69126f65754e04e21327fbe16c28c259dff18a59fe0a8c0"
   }
  }
 },
 "nbformat": 4,
 "nbformat_minor": 2
}
