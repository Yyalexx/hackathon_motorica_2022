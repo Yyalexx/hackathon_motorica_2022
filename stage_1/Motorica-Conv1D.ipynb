{
 "cells": [
  {
   "cell_type": "markdown",
   "metadata": {},
   "source": [
    "## ПАРАМЕТРЫ"
   ]
  },
  {
   "cell_type": "code",
   "execution_count": 1,
   "metadata": {},
   "outputs": [],
   "source": [
    "# Порог (threshold): показания датчиков ниже порогового заменяются 0 значением\n",
    "tres = 250"
   ]
  },
  {
   "cell_type": "markdown",
   "metadata": {},
   "source": [
    "# Загрузка данных"
   ]
  },
  {
   "cell_type": "code",
   "execution_count": 2,
   "metadata": {},
   "outputs": [],
   "source": [
    "import pandas as pd\n",
    "import numpy as np\n",
    "import matplotlib.pyplot as plt"
   ]
  },
  {
   "cell_type": "code",
   "execution_count": 3,
   "metadata": {},
   "outputs": [
    {
     "data": {
      "text/plain": [
       "(165, 40, 60)"
      ]
     },
     "execution_count": 3,
     "metadata": {},
     "output_type": "execute_result"
    }
   ],
   "source": [
    "X_train = np.load ( 'X_train.npy')\n",
    "X_train.shape"
   ]
  },
  {
   "cell_type": "code",
   "execution_count": 4,
   "metadata": {},
   "outputs": [
    {
     "data": {
      "text/plain": [
       "(166, 40, 60)"
      ]
     },
     "execution_count": 4,
     "metadata": {},
     "output_type": "execute_result"
    }
   ],
   "source": [
    "X_test = np.load ( 'X_test.npy')\n",
    "X_test.shape"
   ]
  },
  {
   "cell_type": "markdown",
   "metadata": {},
   "source": [
    "# Предобработка данных"
   ]
  },
  {
   "cell_type": "code",
   "execution_count": 5,
   "metadata": {},
   "outputs": [],
   "source": [
    "# Показания датчиков ниже порогового заменяются 0 значением\n",
    "# для тренировочной выборки\n",
    "\n",
    "X_tres_train = np.copy(X_train)\n",
    "\n",
    "for i in range(X_train.shape[0]):\n",
    "    for j in range(X_train.shape[1]):\n",
    "        for k in range(X_train.shape[2]):\n",
    "            if X_train[i][j][k] <= tres:\n",
    "                X_tres_train[i][j][k] = 0\n",
    "            else:\n",
    "                X_tres_train[i][j][k] = X_train[i][j][k]\n",
    "            "
   ]
  },
  {
   "cell_type": "code",
   "execution_count": 6,
   "metadata": {},
   "outputs": [],
   "source": [
    "# Показания датчиков ниже порогового заменяются 0 значением\n",
    "# для тестовой выборки\n",
    "\n",
    "X_tres_test = np.copy(X_test)\n",
    "\n",
    "for i in range(X_test.shape[0]):\n",
    "    for j in range(X_test.shape[1]):\n",
    "        for k in range(X_test.shape[2]):\n",
    "            if X_test[i][j][k] <= tres:\n",
    "                X_tres_test[i][j][k] = 0\n",
    "            else:\n",
    "                X_tres_test[i][j][k] = X_test[i][j][k]\n",
    "                \n",
    "            "
   ]
  },
  {
   "cell_type": "code",
   "execution_count": 7,
   "metadata": {},
   "outputs": [],
   "source": [
    "# Нормализация данных по строкам: делим все значения в одной строке \n",
    "# на максимальное значение в этой строке\n",
    "\n",
    "def row_normalization(dataset):\n",
    "    for observation in dataset:\n",
    "        sensors_maxs = [sensor.max() for sensor in observation]\n",
    "        for index, sensor in enumerate(observation):\n",
    "            if sensors_maxs[index] > 0:\n",
    "                observation[index] = sensor / sensors_maxs[index]\n",
    "            else:\n",
    "                observation[index] = 0\n",
    "\n",
    "    return dataset"
   ]
  },
  {
   "cell_type": "code",
   "execution_count": 8,
   "metadata": {},
   "outputs": [
    {
     "name": "stdout",
     "output_type": "stream",
     "text": [
      "[[[0.99700375 0.99850187 0.99700375 ... 0.62771536 0.63071161 0.63520599]\n",
      "  [0.         0.         0.         ... 0.         0.         0.        ]\n",
      "  [0.99729416 0.99845381 0.99768071 ... 0.29648241 0.29377658 0.29454967]\n",
      "  ...\n",
      "  [0.         0.         0.         ... 0.         0.         0.        ]\n",
      "  [0.73671498 0.75120773 0.73429952 ... 0.82608696 0.81884058 0.81400966]\n",
      "  [0.         0.         0.         ... 0.         0.         0.        ]]\n",
      "\n",
      " [[0.7235387  0.72748815 0.72590837 ... 0.79541864 0.7906793  0.78672986]\n",
      "  [0.         0.         0.         ... 0.         0.         0.        ]\n",
      "  [0.75637755 0.7557398  0.75510204 ... 0.97640306 0.97130102 0.97002551]\n",
      "  ...\n",
      "  [0.         0.         0.         ... 0.         0.         0.        ]\n",
      "  [0.93311037 0.92474916 0.9264214  ... 0.90635452 0.9180602  0.91471572]\n",
      "  [0.         0.         0.         ... 0.         0.         0.        ]]]\n",
      "[[[0.85058215 0.84799483 0.84734799 ... 0.98965071 0.9851229  0.98318241]\n",
      "  [0.         0.         0.         ... 0.         0.         0.        ]\n",
      "  [0.57985162 0.57985162 0.57789926 ... 0.97266693 0.97344787 0.97344787]\n",
      "  ...\n",
      "  [0.         0.         0.         ... 0.         0.         0.        ]\n",
      "  [0.88391039 0.87983707 0.88187373 ... 0.71690428 0.71894094 0.72301426]\n",
      "  [0.         0.         0.         ... 0.         0.         0.        ]]\n",
      "\n",
      " [[0.95958647 0.95958647 0.95770677 ... 0.95864662 0.95864662 0.95770677]\n",
      "  [0.         0.         0.         ... 0.         0.         0.        ]\n",
      "  [0.76177024 0.75706215 0.75517891 ... 0.81073446 0.80131827 0.79566855]\n",
      "  ...\n",
      "  [0.         0.         0.         ... 0.         0.         0.        ]\n",
      "  [0.81086957 0.825      0.81956522 ... 0.38695652 0.39130435 0.3826087 ]\n",
      "  [0.         0.         0.         ... 0.         0.         0.        ]]]\n"
     ]
    }
   ],
   "source": [
    "# Нормализуем тренировоную и тестовую выборки\n",
    "\n",
    "x_tr = np.copy(X_tres_train)\n",
    "x_tr = row_normalization(x_tr)\n",
    "print(x_tr[:2])\n",
    "\n",
    "x_test = np.copy(X_tres_test)\n",
    "x_test = row_normalization(x_test)\n",
    "print(x_test[:2])"
   ]
  },
  {
   "cell_type": "markdown",
   "metadata": {},
   "source": [
    "# Conv1D Сверточная нейронная сеть"
   ]
  },
  {
   "cell_type": "code",
   "execution_count": 9,
   "id": "c021258c",
   "metadata": {},
   "outputs": [
    {
     "data": {
      "image/png": "[encoded data removed]",
      "text/plain": [
       "<Figure size 432x288 with 1 Axes>"
      ]
     },
     "metadata": {
      "needs_background": "light"
     },
     "output_type": "display_data"
    },
    {
     "name": "stdout",
     "output_type": "stream",
     "text": [
      "0.9772727489471436\n",
      "0.939393937587738\n"
     ]
    }
   ],
   "source": [
    "# Загрузить библиотеки\n",
    "import numpy as np\n",
    "from keras.models import Sequential\n",
    "from keras.layers import Dense, Dropout, Flatten\n",
    "from keras.layers.convolutional import Conv1D, MaxPooling1D\n",
    "from keras.utils import np_utils\n",
    "from keras import backend as K\n",
    "from sklearn.model_selection import train_test_split\n",
    "\n",
    "# Задать начальное значение для ГПСЧ\n",
    "np.random.seed(0)\n",
    "\n",
    "height = 60     # временной интервал\n",
    "width = 40      # кол-во датчиков\n",
    "\n",
    "scaled_train = x_tr\n",
    "\n",
    "y_train_csv = pd.read_csv('y_train.csv')\n",
    "y = y_train_csv['Class'].values\n",
    "\n",
    "test_size = 0.2\n",
    "random_state = 153\n",
    "\n",
    "# выделим % данных на тестовую выборку (параметр test_size)\n",
    "X_train, X_test, y_train, y_test = train_test_split(\n",
    "    scaled_train, y, test_size=test_size, random_state=random_state, stratify=y\n",
    ")\n",
    "\n",
    "# Преобразовать цель в кодировку с одним активным состоянием ohe\n",
    "y_train = np_utils.to_categorical(y_train)\n",
    "y_test = np_utils.to_categorical(y_test)\n",
    "number_of_classes = y_test.shape[1]\n",
    "\n",
    "# Инициализировать нейронную сеть\n",
    "network = Sequential()\n",
    "\n",
    "# Добавить сверточный слой с 192 фильтрами, ядро в одну строку и \n",
    "# активационной функций linear\n",
    "network.add(Conv1D(filters=192,\n",
    "                   kernel_size=1,\n",
    "                   input_shape=(width, height),\n",
    "                   activation='linear'))\n",
    "\n",
    "# Добавить максимально редуцирующий слой с окном 2x2\n",
    "network.add(MaxPooling1D(pool_size=2))\n",
    "\n",
    "# Добавить отсеивающий слой\n",
    "network.add(Dropout(0.5))\n",
    "\n",
    "# Добавить слой для сглаживания входа\n",
    "network.add(Flatten())\n",
    "\n",
    "# Добавить полносвязный слой из 160 блоков с\n",
    "# активационной функций linear\n",
    "network.add(Dense(160, activation=\"linear\"))\n",
    "\n",
    "# Добавить отсеивающий слой\n",
    "network.add(Dropout(0.5))\n",
    "\n",
    "# Добавить полносвязный слой c\n",
    "# активационной функцией softmax\n",
    "network.add(Dense(number_of_classes, activation=\"softmax\"))\n",
    "\n",
    "# Скомплировать нейронную сеть\n",
    "network.compile(\n",
    "    loss=\"categorical_crossentropy\", # Перекрестная энтропия\n",
    "    optimizer=\"rmsprop\",  # Распространение СКО\n",
    "    metrics=[\"accuracy\"]) # Точностный показатель результативности\n",
    "\n",
    "# Натренировать нейронную сеть\n",
    "history = network.fit(\n",
    "    X_train,  # Признаки\n",
    "    y_train,    # Цель\n",
    "    epochs=120,        # Количество эпох\n",
    "    verbose=0,       # Не печатать описание после каждой эпохи\n",
    "    batch_size=15, # Количество наблюдений на пакет\n",
    "    validation_data=(X_test, y_test)) # Данные для оценивания\n",
    "\n",
    "#Отображаем график точности обучения\n",
    "plt.plot(history.history['accuracy'], \n",
    "         label='Доля верных ответов на обучающем наборе')\n",
    "plt.plot(history.history['val_accuracy'], \n",
    "         label='Доля верных ответов на проверочном наборе')\n",
    "plt.xlabel('Эпоха обучения')\n",
    "plt.ylabel('Доля верных ответов')\n",
    "plt.legend()\n",
    "plt.show()\n",
    "\n",
    "print(history.history['accuracy'][-1])\n",
    "print(history.history['val_accuracy'][-1])"
   ]
  },
  {
   "cell_type": "markdown",
   "metadata": {},
   "source": [
    "# Подготовка submission"
   ]
  },
  {
   "cell_type": "code",
   "execution_count": 10,
   "metadata": {},
   "outputs": [],
   "source": [
    "# network.save('model-192-1-160-lin.h5')"
   ]
  },
  {
   "cell_type": "code",
   "execution_count": 11,
   "metadata": {},
   "outputs": [
    {
     "name": "stdout",
     "output_type": "stream",
     "text": [
      "6/6 [==============================] - 0s 2ms/step\n",
      "[10, 1, 10, 13, 4, 5, 15, 6, 3, 13, 2, 3, 5, 8, 12, 7, 0, 11, 12, 0, 12, 14, 4, 10, 0, 10, 15, 5, 6, 4, 15, 1, 2, 15, 12, 12, 9, 8, 14, 2, 12, 3, 8, 14, 3, 8, 13, 13, 7, 10, 4, 3, 1, 13, 11, 13, 12, 0, 6, 2, 1, 6, 11, 3, 6, 3, 5, 11, 13, 5, 14, 2, 7, 15, 15, 4, 2, 6, 0, 7, 12, 5, 9, 11, 1, 5, 15, 9, 8, 14, 14, 1, 2, 11, 9, 1, 5, 14, 3, 9, 5, 2, 10, 15, 9, 7, 10, 10, 4, 9, 6, 14, 6, 12, 0, 11, 2, 8, 3, 11, 13, 7, 10, 10, 11, 5, 6, 0, 9, 10, 12, 8, 0, 8, 7, 3, 12, 4, 9, 15, 2, 4, 4, 7, 6, 6, 1, 9, 3, 11, 13, 8, 12, 0, 7, 2, 1, 0, 15, 0, 9, 14, 13, 3, 9, 6]\n"
     ]
    }
   ],
   "source": [
    "y_test = network.predict(x_test)\n",
    "y_csv = [y.argmax() for y in y_test] # из ohe в числа\n",
    "print(y_csv)\n",
    "sample_submission = pd.read_csv('sample_submission.csv')\n",
    "sample_submission['Class'] = np.array(y_csv)\n",
    "sample_submission.to_csv(f'submission_4_2022.csv', index=False)"
   ]
  }
 ],
 "metadata": {
  "kernelspec": {
   "display_name": "Python 3.9.12 64-bit",
   "language": "python",
   "name": "python3"
  },
  "language_info": {
   "codemirror_mode": {
    "name": "ipython",
    "version": 3
   },
   "file_extension": ".py",
   "mimetype": "text/x-python",
   "name": "python",
   "nbconvert_exporter": "python",
   "pygments_lexer": "ipython3",
   "version": "3.9.12"
  },
  "orig_nbformat": 4,
  "vscode": {
   "interpreter": {
    "hash": "93e5499867a482d1f69126f65754e04e21327fbe16c28c259dff18a59fe0a8c0"
   }
  }
 },
 "nbformat": 4,
 "nbformat_minor": 2
}
